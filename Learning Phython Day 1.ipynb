{
 "cells": [
  {
   "cell_type": "markdown",
   "id": "aff1e2ba",
   "metadata": {},
   "source": [
    "Print Hello World"
   ]
  },
  {
   "cell_type": "code",
   "execution_count": 53,
   "id": "00a637be",
   "metadata": {},
   "outputs": [
    {
     "name": "stdout",
     "output_type": "stream",
     "text": [
      "Hello World\n"
     ]
    }
   ],
   "source": [
    "print(\"Hello World\")"
   ]
  },
  {
   "cell_type": "markdown",
   "id": "006e5751",
   "metadata": {},
   "source": [
    "Variable"
   ]
  },
  {
   "cell_type": "code",
   "execution_count": 54,
   "id": "482a101e",
   "metadata": {},
   "outputs": [],
   "source": [
    "tinggi=1.4"
   ]
  },
  {
   "cell_type": "code",
   "execution_count": 55,
   "id": "080f9bee",
   "metadata": {},
   "outputs": [],
   "source": [
    "berat = 50"
   ]
  },
  {
   "cell_type": "code",
   "execution_count": 56,
   "id": "031bc515",
   "metadata": {},
   "outputs": [],
   "source": [
    "nama_ku = \"billy\""
   ]
  },
  {
   "cell_type": "code",
   "execution_count": 57,
   "id": "59115fcf",
   "metadata": {},
   "outputs": [
    {
     "data": {
      "text/plain": [
       "1.4"
      ]
     },
     "execution_count": 57,
     "metadata": {},
     "output_type": "execute_result"
    }
   ],
   "source": [
    "tinggi"
   ]
  },
  {
   "cell_type": "code",
   "execution_count": 58,
   "id": "9ae1a805",
   "metadata": {},
   "outputs": [
    {
     "data": {
      "text/plain": [
       "50"
      ]
     },
     "execution_count": 58,
     "metadata": {},
     "output_type": "execute_result"
    }
   ],
   "source": [
    "berat"
   ]
  },
  {
   "cell_type": "markdown",
   "id": "bc951e9f",
   "metadata": {},
   "source": [
    "Basic Operation"
   ]
  },
  {
   "cell_type": "code",
   "execution_count": 59,
   "id": "b0626c10",
   "metadata": {},
   "outputs": [
    {
     "name": "stdout",
     "output_type": "stream",
     "text": [
      "15\n"
     ]
    }
   ],
   "source": [
    "print (5+10)"
   ]
  },
  {
   "cell_type": "code",
   "execution_count": 60,
   "id": "5fb5c30a",
   "metadata": {},
   "outputs": [
    {
     "name": "stdout",
     "output_type": "stream",
     "text": [
      "0\n"
     ]
    }
   ],
   "source": [
    "print (5-5)"
   ]
  },
  {
   "cell_type": "code",
   "execution_count": 61,
   "id": "5145bc49",
   "metadata": {},
   "outputs": [],
   "source": [
    "a= 5"
   ]
  },
  {
   "cell_type": "code",
   "execution_count": 62,
   "id": "92affa0a",
   "metadata": {},
   "outputs": [],
   "source": [
    "b= 10"
   ]
  },
  {
   "cell_type": "code",
   "execution_count": 63,
   "id": "4ff7dfc1",
   "metadata": {},
   "outputs": [
    {
     "name": "stdout",
     "output_type": "stream",
     "text": [
      "15\n"
     ]
    }
   ],
   "source": [
    "print(a+b)"
   ]
  },
  {
   "cell_type": "markdown",
   "id": "e6faec34",
   "metadata": {},
   "source": [
    "Hitunglah Luas Persegi Panjang dengan panjang 10 & Lebar 6"
   ]
  },
  {
   "cell_type": "code",
   "execution_count": 64,
   "id": "d7488c3d",
   "metadata": {},
   "outputs": [],
   "source": [
    "P = 10"
   ]
  },
  {
   "cell_type": "code",
   "execution_count": 65,
   "id": "d6d6bcce",
   "metadata": {},
   "outputs": [],
   "source": [
    "L = 6"
   ]
  },
  {
   "cell_type": "code",
   "execution_count": 66,
   "id": "a4c27bcb",
   "metadata": {},
   "outputs": [],
   "source": [
    "Luas_Persegi_Panjang = P*L"
   ]
  },
  {
   "cell_type": "code",
   "execution_count": 67,
   "id": "af58b608",
   "metadata": {},
   "outputs": [
    {
     "data": {
      "text/plain": [
       "60"
      ]
     },
     "execution_count": 67,
     "metadata": {},
     "output_type": "execute_result"
    }
   ],
   "source": [
    "Luas_Persegi_Panjang"
   ]
  },
  {
   "cell_type": "code",
   "execution_count": 68,
   "id": "538c2bae",
   "metadata": {},
   "outputs": [
    {
     "data": {
      "text/plain": [
       "float"
      ]
     },
     "execution_count": 68,
     "metadata": {},
     "output_type": "execute_result"
    }
   ],
   "source": [
    "type(tinggi)"
   ]
  },
  {
   "cell_type": "code",
   "execution_count": 69,
   "id": "44b254b9",
   "metadata": {},
   "outputs": [
    {
     "data": {
      "text/plain": [
       "int"
      ]
     },
     "execution_count": 69,
     "metadata": {},
     "output_type": "execute_result"
    }
   ],
   "source": [
    "type(berat)"
   ]
  },
  {
   "cell_type": "code",
   "execution_count": 70,
   "id": "6e66eab0",
   "metadata": {},
   "outputs": [
    {
     "data": {
      "text/plain": [
       "str"
      ]
     },
     "execution_count": 70,
     "metadata": {},
     "output_type": "execute_result"
    }
   ],
   "source": [
    "type (nama_ku)"
   ]
  },
  {
   "cell_type": "code",
   "execution_count": 71,
   "id": "eb31fc1a",
   "metadata": {},
   "outputs": [
    {
     "data": {
      "text/plain": [
       "'60'"
      ]
     },
     "execution_count": 71,
     "metadata": {},
     "output_type": "execute_result"
    }
   ],
   "source": [
    "str(Luas_Persegi_Panjang)"
   ]
  },
  {
   "cell_type": "code",
   "execution_count": 72,
   "id": "1ae142c9",
   "metadata": {},
   "outputs": [],
   "source": [
    "string_luas_PP = str (Luas_Persegi_Panjang)"
   ]
  },
  {
   "cell_type": "markdown",
   "id": "6eaabfe0",
   "metadata": {},
   "source": [
    "Uang 100.000 taruh bank selama 5 thn, bunga 10%/thn berapa uang skrg"
   ]
  },
  {
   "cell_type": "code",
   "execution_count": 90,
   "id": "c7432861",
   "metadata": {},
   "outputs": [],
   "source": [
    "uang = 100000\n",
    "bunga =0.1\n",
    "periode =5"
   ]
  },
  {
   "cell_type": "code",
   "execution_count": 93,
   "id": "0804bf4f",
   "metadata": {},
   "outputs": [],
   "source": [
    "my_money = uang*(1+bunga/periode)**(periode*5)"
   ]
  },
  {
   "cell_type": "code",
   "execution_count": 94,
   "id": "eebf892d",
   "metadata": {},
   "outputs": [
    {
     "name": "stdout",
     "output_type": "stream",
     "text": [
      "164060.59944647306\n"
     ]
    }
   ],
   "source": [
    "print (my_money)"
   ]
  },
  {
   "cell_type": "markdown",
   "id": "78823885",
   "metadata": {},
   "source": [
    "Sebuah bola menggelinding ke bawah dari suatu bidang miring dengan percepatan tetap 3,4 m/s2. Jika bola bergerak dengan kecepatan awal 3 m/s, tentukan kecepatan bola setelah bergerak selama 5 detik! v = vo + a t"
   ]
  },
  {
   "cell_type": "code",
   "execution_count": 96,
   "id": "71b3d8e8",
   "metadata": {},
   "outputs": [],
   "source": [
    "vo =3\n",
    "a = 3.4\n",
    "t = 5"
   ]
  },
  {
   "cell_type": "code",
   "execution_count": 98,
   "id": "cf4aea30",
   "metadata": {},
   "outputs": [],
   "source": [
    "kecepatan = vo+a*t"
   ]
  },
  {
   "cell_type": "code",
   "execution_count": 106,
   "id": "5956adf0",
   "metadata": {},
   "outputs": [
    {
     "name": "stdout",
     "output_type": "stream",
     "text": [
      "kecepatan bola adalah: 20.0\n"
     ]
    }
   ],
   "source": [
    "print (\"kecepatan bola adalah: \" + str (kecepatan))"
   ]
  },
  {
   "cell_type": "code",
   "execution_count": null,
   "id": "347dc782",
   "metadata": {},
   "outputs": [],
   "source": []
  }
 ],
 "metadata": {
  "kernelspec": {
   "display_name": "Python 3 (ipykernel)",
   "language": "python",
   "name": "python3"
  },
  "language_info": {
   "codemirror_mode": {
    "name": "ipython",
    "version": 3
   },
   "file_extension": ".py",
   "mimetype": "text/x-python",
   "name": "python",
   "nbconvert_exporter": "python",
   "pygments_lexer": "ipython3",
   "version": "3.9.12"
  }
 },
 "nbformat": 4,
 "nbformat_minor": 5
}
